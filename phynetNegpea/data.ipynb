{
 "cells": [
  {
   "cell_type": "code",
   "execution_count": 3,
   "id": "baf1be83-61f4-4056-a4e2-565e21904cb7",
   "metadata": {},
   "outputs": [],
   "source": [
    "import random\n",
    "all_txt = '/home/nicky/nickynicu/Video-Based-Physiological-Measurement/deeplearning/ConventionalMethod/Whitebalance/phynetNegpea/final_train.txt'\n",
    "des_txt = '/home/nicky/nickynicu/Video-Based-Physiological-Measurement/deeplearning/ConventionalMethod/Whitebalance/phynetNegpea/final_trainrand.txt'\n",
    "with open(all_txt,'r') as source:\n",
    "    data = [ (random.random(), line) for line in source ]\n",
    "data.sort()\n",
    "with open(des_txt,'w') as target:\n",
    "    for _, line in data:\n",
    "        target.write( line )"
   ]
  },
  {
   "cell_type": "code",
   "execution_count": null,
   "id": "bc54deca-024a-4250-902c-1031dae98599",
   "metadata": {},
   "outputs": [],
   "source": []
  }
 ],
 "metadata": {
  "kernelspec": {
   "display_name": "Python 3",
   "language": "python",
   "name": "python3"
  },
  "language_info": {
   "codemirror_mode": {
    "name": "ipython",
    "version": 3
   },
   "file_extension": ".py",
   "mimetype": "text/x-python",
   "name": "python",
   "nbconvert_exporter": "python",
   "pygments_lexer": "ipython3",
   "version": "3.8.10"
  }
 },
 "nbformat": 4,
 "nbformat_minor": 5
}
